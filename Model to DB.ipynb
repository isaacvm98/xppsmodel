{
 "cells": [
  {
   "cell_type": "code",
   "execution_count": 88,
   "metadata": {},
   "outputs": [],
   "source": [
    "import numpy as np\n",
    "import pandas as pd\n",
    "import statsmodels.api as sm"
   ]
  },
  {
   "cell_type": "code",
   "execution_count": 89,
   "metadata": {},
   "outputs": [],
   "source": [
    "data= pd.read_csv('shots.csv')"
   ]
  },
  {
   "cell_type": "code",
   "execution_count": 90,
   "metadata": {},
   "outputs": [],
   "source": [
    "data=data[['PLAYER_ID','PLAYER_NAME', 'TEAM_ID', 'TEAM_NAME','SHOT_TYPE', 'SHOT_ZONE_BASIC', 'SHOT_ZONE_AREA',\n",
    "       'SHOT_ZONE_RANGE', 'SHOT_DISTANCE', 'LOC_X', 'LOC_Y',\n",
    "       'SHOT_ATTEMPTED_FLAG', 'SHOT_MADE_FLAG']]"
   ]
  },
  {
   "cell_type": "code",
   "execution_count": 91,
   "metadata": {},
   "outputs": [],
   "source": [
    "data[\"3pa\"]=np.where((data[\"SHOT_DISTANCE\"]>=24), 1, 0)\n",
    "data['2pa'] = np.where((data[\"SHOT_DISTANCE\"]<24), 1, 0)\n",
    "data[\"3pm\"]=np.where((data[\"SHOT_MADE_FLAG\"]==1) & (data[\"SHOT_DISTANCE\"]>=24), 3, 0)\n",
    "data['2pm'] = np.where((data[\"SHOT_MADE_FLAG\"]==1) & (data[\"SHOT_DISTANCE\"]<24), 2, 0)\n",
    "data['Pts']=data[\"3pm\"]+data['2pm']"
   ]
  },
  {
   "cell_type": "code",
   "execution_count": 92,
   "metadata": {},
   "outputs": [],
   "source": [
    "data=data[[\"Pts\",\"SHOT_ZONE_BASIC\",\"PLAYER_NAME\",\"PLAYER_ID\",'TEAM_NAME']]"
   ]
  },
  {
   "cell_type": "code",
   "execution_count": 93,
   "metadata": {},
   "outputs": [],
   "source": [
    "data[\"Mid FGA\"]=np.where(data[\"SHOT_ZONE_BASIC\"]=='Mid-Range',1,0)\n",
    "data[\"Restricted Area FGA\"]=np.where(data[\"SHOT_ZONE_BASIC\"]=='Restricted Area',1,0)\n",
    "data[\"Above the Break 3 FGA\"]=np.where(data[\"SHOT_ZONE_BASIC\"]=='Above the Break 3',1,0)\n",
    "data[\"Right Corner 3 FGA\"]=np.where(data[\"SHOT_ZONE_BASIC\"]=='Right Corner 3',1,0)\n",
    "data['In The Paint (Non-RA) FGA']=np.where(data[\"SHOT_ZONE_BASIC\"]=='In The Paint (Non-RA)',1,0)\n",
    "data[\"Left Corner 3 FGA\"]=np.where(data[\"SHOT_ZONE_BASIC\"]=='Left Corner 3',1,0)"
   ]
  },
  {
   "cell_type": "code",
   "execution_count": 95,
   "metadata": {},
   "outputs": [],
   "source": [
    "data=data.sort_values(\"PLAYER_ID\")"
   ]
  },
  {
   "cell_type": "code",
   "execution_count": 96,
   "metadata": {},
   "outputs": [
    {
     "name": "stdout",
     "output_type": "stream",
     "text": [
      "                                 OLS Regression Results                                \n",
      "=======================================================================================\n",
      "Dep. Variable:                    Pts   R-squared (uncentered):                   0.461\n",
      "Model:                            OLS   Adj. R-squared (uncentered):              0.461\n",
      "Method:                 Least Squares   F-statistic:                          7.083e+04\n",
      "Date:                Mon, 22 Mar 2021   Prob (F-statistic):                        0.00\n",
      "Time:                        17:15:07   Log-Likelihood:                     -7.6429e+05\n",
      "No. Observations:              496182   AIC:                                  1.529e+06\n",
      "Df Residuals:                  496176   BIC:                                  1.529e+06\n",
      "Df Model:                           6                                                  \n",
      "Covariance Type:            nonrobust                                                  \n",
      "=============================================================================================\n",
      "                                coef    std err          t      P>|t|      [0.025      0.975]\n",
      "---------------------------------------------------------------------------------------------\n",
      "Mid FGA                       0.8097      0.004    189.560      0.000       0.801       0.818\n",
      "Restricted Area FGA           1.2652      0.003    447.826      0.000       1.260       1.271\n",
      "Above the Break 3 FGA         1.0553      0.003    352.479      0.000       1.049       1.061\n",
      "Right Corner 3 FGA            0.8142      0.008    103.539      0.000       0.799       0.830\n",
      "In The Paint (Non-RA) FGA     0.8116      0.004    204.421      0.000       0.804       0.819\n",
      "Left Corner 3 FGA             0.8278      0.008    108.392      0.000       0.813       0.843\n",
      "==============================================================================\n",
      "Omnibus:                  3599286.189   Durbin-Watson:                   1.995\n",
      "Prob(Omnibus):                  0.000   Jarque-Bera (JB):            54506.564\n",
      "Skew:                           0.371   Prob(JB):                         0.00\n",
      "Kurtosis:                       1.556   Cond. No.                         2.78\n",
      "==============================================================================\n",
      "\n",
      "Notes:\n",
      "[1] R² is computed without centering (uncentered) since the model does not contain a constant.\n",
      "[2] Standard Errors assume that the covariance matrix of the errors is correctly specified.\n"
     ]
    }
   ],
   "source": [
    "x=data[['Mid FGA', 'Restricted Area FGA',\n",
    "       'Above the Break 3 FGA', 'Right Corner 3 FGA', 'In The Paint (Non-RA) FGA',\n",
    "       'Left Corner 3 FGA']]\n",
    "y=data[\"Pts\"]\n",
    "model_l = sm.OLS(y, x).fit()\n",
    "print(model_l.summary())\n",
    "betas = model_l.params\n",
    "pred_pps=model_l.predict(x).values"
   ]
  },
  {
   "cell_type": "code",
   "execution_count": 97,
   "metadata": {},
   "outputs": [],
   "source": [
    "df=pd.DataFrame()\n",
    "for i in data[\"PLAYER_NAME\"].unique():\n",
    "    \n",
    "\n",
    "    data_player=data.loc[data[\"PLAYER_NAME\"]=='{}'.format(i)]\n",
    "    x_data_player=data_player[['Mid FGA', 'Restricted Area FGA',\n",
    "           'Above the Break 3 FGA', 'Right Corner 3 FGA', 'In The Paint (Non-RA) FGA',\n",
    "           'Left Corner 3 FGA']]\n",
    "    y_data_player=data_player[\"Pts\"]\n",
    "    model_jugador = sm.OLS(y_data_player, x_data_player).fit()\n",
    "    betas_jugador = model_jugador.params\n",
    "    df=df.append(betas_jugador,ignore_index=True)"
   ]
  },
  {
   "cell_type": "code",
   "execution_count": 99,
   "metadata": {},
   "outputs": [],
   "source": [
    "att=data.groupby(\"PLAYER_ID\").sum()"
   ]
  },
  {
   "cell_type": "code",
   "execution_count": 100,
   "metadata": {},
   "outputs": [],
   "source": [
    "att[\"FGA\"]=att[\"Mid FGA\"]+att[\"Restricted Area FGA\"]+att[\"Above the Break 3 FGA\"]+att[\"Right Corner 3 FGA\"]+att[\"In The Paint (Non-RA) FGA\"]+att[\"Left Corner 3 FGA\"]"
   ]
  },
  {
   "cell_type": "code",
   "execution_count": 101,
   "metadata": {},
   "outputs": [
    {
     "data": {
      "text/html": [
       "<div>\n",
       "<style scoped>\n",
       "    .dataframe tbody tr th:only-of-type {\n",
       "        vertical-align: middle;\n",
       "    }\n",
       "\n",
       "    .dataframe tbody tr th {\n",
       "        vertical-align: top;\n",
       "    }\n",
       "\n",
       "    .dataframe thead th {\n",
       "        text-align: right;\n",
       "    }\n",
       "</style>\n",
       "<table border=\"1\" class=\"dataframe\">\n",
       "  <thead>\n",
       "    <tr style=\"text-align: right;\">\n",
       "      <th></th>\n",
       "      <th>Pts</th>\n",
       "      <th>Mid FGA</th>\n",
       "      <th>Restricted Area FGA</th>\n",
       "      <th>Above the Break 3 FGA</th>\n",
       "      <th>Right Corner 3 FGA</th>\n",
       "      <th>In The Paint (Non-RA) FGA</th>\n",
       "      <th>Left Corner 3 FGA</th>\n",
       "      <th>FGA</th>\n",
       "    </tr>\n",
       "    <tr>\n",
       "      <th>PLAYER_ID</th>\n",
       "      <th></th>\n",
       "      <th></th>\n",
       "      <th></th>\n",
       "      <th></th>\n",
       "      <th></th>\n",
       "      <th></th>\n",
       "      <th></th>\n",
       "      <th></th>\n",
       "    </tr>\n",
       "  </thead>\n",
       "  <tbody>\n",
       "    <tr>\n",
       "      <th>1713</th>\n",
       "      <td>755</td>\n",
       "      <td>88</td>\n",
       "      <td>103</td>\n",
       "      <td>419</td>\n",
       "      <td>52</td>\n",
       "      <td>64</td>\n",
       "      <td>43</td>\n",
       "      <td>769</td>\n",
       "    </tr>\n",
       "    <tr>\n",
       "      <th>1717</th>\n",
       "      <td>327</td>\n",
       "      <td>139</td>\n",
       "      <td>5</td>\n",
       "      <td>183</td>\n",
       "      <td>16</td>\n",
       "      <td>27</td>\n",
       "      <td>5</td>\n",
       "      <td>375</td>\n",
       "    </tr>\n",
       "    <tr>\n",
       "      <th>2037</th>\n",
       "      <td>412</td>\n",
       "      <td>145</td>\n",
       "      <td>22</td>\n",
       "      <td>165</td>\n",
       "      <td>15</td>\n",
       "      <td>71</td>\n",
       "      <td>22</td>\n",
       "      <td>440</td>\n",
       "    </tr>\n",
       "    <tr>\n",
       "      <th>2199</th>\n",
       "      <td>150</td>\n",
       "      <td>1</td>\n",
       "      <td>108</td>\n",
       "      <td>1</td>\n",
       "      <td>0</td>\n",
       "      <td>7</td>\n",
       "      <td>0</td>\n",
       "      <td>117</td>\n",
       "    </tr>\n",
       "    <tr>\n",
       "      <th>2200</th>\n",
       "      <td>90</td>\n",
       "      <td>21</td>\n",
       "      <td>36</td>\n",
       "      <td>10</td>\n",
       "      <td>1</td>\n",
       "      <td>24</td>\n",
       "      <td>2</td>\n",
       "      <td>94</td>\n",
       "    </tr>\n",
       "    <tr>\n",
       "      <th>...</th>\n",
       "      <td>...</td>\n",
       "      <td>...</td>\n",
       "      <td>...</td>\n",
       "      <td>...</td>\n",
       "      <td>...</td>\n",
       "      <td>...</td>\n",
       "      <td>...</td>\n",
       "      <td>...</td>\n",
       "    </tr>\n",
       "    <tr>\n",
       "      <th>1630253</th>\n",
       "      <td>23</td>\n",
       "      <td>2</td>\n",
       "      <td>6</td>\n",
       "      <td>7</td>\n",
       "      <td>3</td>\n",
       "      <td>0</td>\n",
       "      <td>5</td>\n",
       "      <td>23</td>\n",
       "    </tr>\n",
       "    <tr>\n",
       "      <th>1630256</th>\n",
       "      <td>269</td>\n",
       "      <td>6</td>\n",
       "      <td>126</td>\n",
       "      <td>37</td>\n",
       "      <td>13</td>\n",
       "      <td>40</td>\n",
       "      <td>15</td>\n",
       "      <td>237</td>\n",
       "    </tr>\n",
       "    <tr>\n",
       "      <th>1630264</th>\n",
       "      <td>7</td>\n",
       "      <td>1</td>\n",
       "      <td>2</td>\n",
       "      <td>4</td>\n",
       "      <td>2</td>\n",
       "      <td>0</td>\n",
       "      <td>1</td>\n",
       "      <td>10</td>\n",
       "    </tr>\n",
       "    <tr>\n",
       "      <th>1630267</th>\n",
       "      <td>123</td>\n",
       "      <td>7</td>\n",
       "      <td>13</td>\n",
       "      <td>64</td>\n",
       "      <td>10</td>\n",
       "      <td>19</td>\n",
       "      <td>12</td>\n",
       "      <td>125</td>\n",
       "    </tr>\n",
       "    <tr>\n",
       "      <th>1630271</th>\n",
       "      <td>5</td>\n",
       "      <td>0</td>\n",
       "      <td>1</td>\n",
       "      <td>6</td>\n",
       "      <td>0</td>\n",
       "      <td>0</td>\n",
       "      <td>0</td>\n",
       "      <td>7</td>\n",
       "    </tr>\n",
       "  </tbody>\n",
       "</table>\n",
       "<p>730 rows × 8 columns</p>\n",
       "</div>"
      ],
      "text/plain": [
       "           Pts  Mid FGA  Restricted Area FGA  Above the Break 3 FGA  \\\n",
       "PLAYER_ID                                                             \n",
       "1713       755       88                  103                    419   \n",
       "1717       327      139                    5                    183   \n",
       "2037       412      145                   22                    165   \n",
       "2199       150        1                  108                      1   \n",
       "2200        90       21                   36                     10   \n",
       "...        ...      ...                  ...                    ...   \n",
       "1630253     23        2                    6                      7   \n",
       "1630256    269        6                  126                     37   \n",
       "1630264      7        1                    2                      4   \n",
       "1630267    123        7                   13                     64   \n",
       "1630271      5        0                    1                      6   \n",
       "\n",
       "           Right Corner 3 FGA  In The Paint (Non-RA) FGA  Left Corner 3 FGA  \\\n",
       "PLAYER_ID                                                                     \n",
       "1713                       52                         64                 43   \n",
       "1717                       16                         27                  5   \n",
       "2037                       15                         71                 22   \n",
       "2199                        0                          7                  0   \n",
       "2200                        1                         24                  2   \n",
       "...                       ...                        ...                ...   \n",
       "1630253                     3                          0                  5   \n",
       "1630256                    13                         40                 15   \n",
       "1630264                     2                          0                  1   \n",
       "1630267                    10                         19                 12   \n",
       "1630271                     0                          0                  0   \n",
       "\n",
       "           FGA  \n",
       "PLAYER_ID       \n",
       "1713       769  \n",
       "1717       375  \n",
       "2037       440  \n",
       "2199       117  \n",
       "2200        94  \n",
       "...        ...  \n",
       "1630253     23  \n",
       "1630256    237  \n",
       "1630264     10  \n",
       "1630267    125  \n",
       "1630271      7  \n",
       "\n",
       "[730 rows x 8 columns]"
      ]
     },
     "execution_count": 101,
     "metadata": {},
     "output_type": "execute_result"
    }
   ],
   "source": [
    "att"
   ]
  },
  {
   "cell_type": "code",
   "execution_count": 102,
   "metadata": {},
   "outputs": [],
   "source": [
    "player_id=data[\"PLAYER_ID\"].unique()"
   ]
  },
  {
   "cell_type": "code",
   "execution_count": 105,
   "metadata": {},
   "outputs": [],
   "source": [
    "df=df.set_index(player_id)"
   ]
  },
  {
   "cell_type": "code",
   "execution_count": 106,
   "metadata": {},
   "outputs": [],
   "source": [
    "df=df.merge(att,left_index=True,right_index=True)"
   ]
  },
  {
   "cell_type": "code",
   "execution_count": 110,
   "metadata": {},
   "outputs": [],
   "source": [
    "df[\"Name\"]=data[\"PLAYER_NAME\"].unique()"
   ]
  },
  {
   "cell_type": "code",
   "execution_count": null,
   "metadata": {},
   "outputs": [],
   "source": []
  }
 ],
 "metadata": {
  "kernelspec": {
   "display_name": "Python 3",
   "language": "python",
   "name": "python3"
  },
  "language_info": {
   "codemirror_mode": {
    "name": "ipython",
    "version": 3
   },
   "file_extension": ".py",
   "mimetype": "text/x-python",
   "name": "python",
   "nbconvert_exporter": "python",
   "pygments_lexer": "ipython3",
   "version": "3.8.5"
  }
 },
 "nbformat": 4,
 "nbformat_minor": 4
}
