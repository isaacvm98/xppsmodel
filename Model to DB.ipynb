{
 "cells": [
  {
   "cell_type": "code",
   "execution_count": 88,
   "metadata": {},
   "outputs": [],
   "source": [
    "#Librerias que vamos a usar\n",
    "import numpy as np\n",
    "import pandas as pd\n",
    "import statsmodels.api as sm"
   ]
  },
  {
   "cell_type": "code",
   "execution_count": 89,
   "metadata": {},
   "outputs": [],
   "source": [
    "data= pd.read_csv('shots.csv')"
   ]
  },
  {
   "cell_type": "code",
   "execution_count": 90,
   "metadata": {},
   "outputs": [],
   "source": [
    "#Flags usadas\n",
    "data=data[['PLAYER_ID','PLAYER_NAME', 'TEAM_ID', 'TEAM_NAME','SHOT_TYPE', 'SHOT_ZONE_BASIC', 'SHOT_ZONE_AREA',\n",
    "       'SHOT_ZONE_RANGE', 'SHOT_DISTANCE', 'LOC_X', 'LOC_Y',\n",
    "       'SHOT_ATTEMPTED_FLAG', 'SHOT_MADE_FLAG']]"
   ]
  },
  {
   "cell_type": "code",
   "execution_count": 91,
   "metadata": {},
   "outputs": [],
   "source": [
    "#Calcular los Puntos de cada judagor\n",
    "data[\"3pa\"]=np.where((data[\"SHOT_DISTANCE\"]>=24), 1, 0)\n",
    "data['2pa'] = np.where((data[\"SHOT_DISTANCE\"]<24), 1, 0)\n",
    "data[\"3pm\"]=np.where((data[\"SHOT_MADE_FLAG\"]==1) & (data[\"SHOT_DISTANCE\"]>=24), 3, 0)\n",
    "data['2pm'] = np.where((data[\"SHOT_MADE_FLAG\"]==1) & (data[\"SHOT_DISTANCE\"]<24), 2, 0)\n",
    "data['Pts']=data[\"3pm\"]+data['2pm']"
   ]
  },
  {
   "cell_type": "code",
   "execution_count": 92,
   "metadata": {},
   "outputs": [],
   "source": [
    "#Flags usadas para crear las dummies\n",
    "data=data[[\"Pts\",\"SHOT_ZONE_BASIC\",\"PLAYER_NAME\",\"PLAYER_ID\",'TEAM_NAME']]"
   ]
  },
  {
   "cell_type": "code",
   "execution_count": 93,
   "metadata": {},
   "outputs": [],
   "source": [
    "#Crear Dummies para el modelo\n",
    "data[\"Mid FGA\"]=np.where(data[\"SHOT_ZONE_BASIC\"]=='Mid-Range',1,0)\n",
    "data[\"Restricted Area FGA\"]=np.where(data[\"SHOT_ZONE_BASIC\"]=='Restricted Area',1,0)\n",
    "data[\"Above the Break 3 FGA\"]=np.where(data[\"SHOT_ZONE_BASIC\"]=='Above the Break 3',1,0)\n",
    "data[\"Right Corner 3 FGA\"]=np.where(data[\"SHOT_ZONE_BASIC\"]=='Right Corner 3',1,0)\n",
    "data['In The Paint (Non-RA) FGA']=np.where(data[\"SHOT_ZONE_BASIC\"]=='In The Paint (Non-RA)',1,0)\n",
    "data[\"Left Corner 3 FGA\"]=np.where(data[\"SHOT_ZONE_BASIC\"]=='Left Corner 3',1,0)"
   ]
  },
  {
   "cell_type": "code",
   "execution_count": 95,
   "metadata": {},
   "outputs": [],
   "source": [
    "#Ordenar los datos para poder hacer el merge despues\n",
    "data=data.sort_values(\"PLAYER_ID\")"
   ]
  },
  {
   "cell_type": "code",
   "execution_count": 114,
   "metadata": {},
   "outputs": [
    {
     "name": "stdout",
     "output_type": "stream",
     "text": [
      "                                 OLS Regression Results                                \n",
      "=======================================================================================\n",
      "Dep. Variable:                    Pts   R-squared (uncentered):                   0.461\n",
      "Model:                            OLS   Adj. R-squared (uncentered):              0.461\n",
      "Method:                 Least Squares   F-statistic:                          7.083e+04\n",
      "Date:                Mon, 22 Mar 2021   Prob (F-statistic):                        0.00\n",
      "Time:                        17:25:58   Log-Likelihood:                     -7.6429e+05\n",
      "No. Observations:              496182   AIC:                                  1.529e+06\n",
      "Df Residuals:                  496176   BIC:                                  1.529e+06\n",
      "Df Model:                           6                                                  \n",
      "Covariance Type:            nonrobust                                                  \n",
      "=============================================================================================\n",
      "                                coef    std err          t      P>|t|      [0.025      0.975]\n",
      "---------------------------------------------------------------------------------------------\n",
      "Mid FGA                       0.8097      0.004    189.560      0.000       0.801       0.818\n",
      "Restricted Area FGA           1.2652      0.003    447.826      0.000       1.260       1.271\n",
      "Above the Break 3 FGA         1.0553      0.003    352.479      0.000       1.049       1.061\n",
      "Right Corner 3 FGA            0.8142      0.008    103.539      0.000       0.799       0.830\n",
      "In The Paint (Non-RA) FGA     0.8116      0.004    204.421      0.000       0.804       0.819\n",
      "Left Corner 3 FGA             0.8278      0.008    108.392      0.000       0.813       0.843\n",
      "==============================================================================\n",
      "Omnibus:                  3599286.189   Durbin-Watson:                   1.995\n",
      "Prob(Omnibus):                  0.000   Jarque-Bera (JB):            54506.564\n",
      "Skew:                           0.371   Prob(JB):                         0.00\n",
      "Kurtosis:                       1.556   Cond. No.                         2.78\n",
      "==============================================================================\n",
      "\n",
      "Notes:\n",
      "[1] R² is computed without centering (uncentered) since the model does not contain a constant.\n",
      "[2] Standard Errors assume that the covariance matrix of the errors is correctly specified.\n"
     ]
    }
   ],
   "source": [
    "#Modelo general\n",
    "x=data[['Mid FGA', 'Restricted Area FGA',\n",
    "       'Above the Break 3 FGA', 'Right Corner 3 FGA', 'In The Paint (Non-RA) FGA',\n",
    "       'Left Corner 3 FGA']]\n",
    "y=data[\"Pts\"]\n",
    "model_l = sm.OLS(y, x).fit()\n",
    "print(model_l.summary())\n",
    "betas = model_l.params\n",
    "pred_pps=model_l.predict(x).values"
   ]
  },
  {
   "cell_type": "code",
   "execution_count": 97,
   "metadata": {},
   "outputs": [],
   "source": [
    "#Modelo con las betas de cada jugador, convertirlo en una Base de Datos para utilizarlo por jugador\n",
    "df=pd.DataFrame()\n",
    "for i in data[\"PLAYER_NAME\"].unique():\n",
    "    \n",
    "\n",
    "    data_player=data.loc[data[\"PLAYER_NAME\"]=='{}'.format(i)]\n",
    "    x_data_player=data_player[['Mid FGA', 'Restricted Area FGA',\n",
    "           'Above the Break 3 FGA', 'Right Corner 3 FGA', 'In The Paint (Non-RA) FGA',\n",
    "           'Left Corner 3 FGA']]\n",
    "    y_data_player=data_player[\"Pts\"]\n",
    "    model_jugador = sm.OLS(y_data_player, x_data_player).fit()\n",
    "    betas_jugador = model_jugador.params\n",
    "    df=df.append(betas_jugador,ignore_index=True)"
   ]
  },
  {
   "cell_type": "code",
   "execution_count": 99,
   "metadata": {},
   "outputs": [],
   "source": [
    "att=data.groupby(\"PLAYER_ID\").sum()"
   ]
  },
  {
   "cell_type": "code",
   "execution_count": 100,
   "metadata": {},
   "outputs": [],
   "source": [
    "#Calcular los tiros por jugador\n",
    "att[\"FGA\"]=att[\"Mid FGA\"]+att[\"Restricted Area FGA\"]+att[\"Above the Break 3 FGA\"]+att[\"Right Corner 3 FGA\"]+att[\"In The Paint (Non-RA) FGA\"]+att[\"Left Corner 3 FGA\"]"
   ]
  },
  {
   "cell_type": "code",
   "execution_count": 102,
   "metadata": {},
   "outputs": [],
   "source": [
    "player_id=data[\"PLAYER_ID\"].unique()"
   ]
  },
  {
   "cell_type": "code",
   "execution_count": 105,
   "metadata": {},
   "outputs": [],
   "source": [
    "#Utilizar como index el Player Id para el merge\n",
    "df=df.set_index(player_id)"
   ]
  },
  {
   "cell_type": "code",
   "execution_count": 106,
   "metadata": {},
   "outputs": [],
   "source": [
    "#Merge para la Base final\n",
    "df=df.merge(att,left_index=True,right_index=True)"
   ]
  },
  {
   "cell_type": "code",
   "execution_count": 110,
   "metadata": {},
   "outputs": [],
   "source": [
    "#Agregamos la columna con los nombres\n",
    "df[\"Name\"]=data[\"PLAYER_NAME\"].unique()"
   ]
  },
  {
   "cell_type": "code",
   "execution_count": 111,
   "metadata": {},
   "outputs": [],
   "source": [
    "#Las nombramos para evitar confusión\n",
    "df.columns=['Above the Break 3', 'In The Paint (Non-RA)', 'Left Corner 3', 'Mid','Restricted Area', 'Right Corner 3','FGA','Above the Break 3 FGA', 'In The Paint (Non-RA) FGA','Left Corner 3 FGA', 'Mid FGA', 'Restricted Area FGA','Right Corner 3 FGA',\"Pts\",\"Name\"]"
   ]
  },
  {
   "cell_type": "code",
   "execution_count": 112,
   "metadata": {},
   "outputs": [],
   "source": [
    "#Dar el nuevo valor a las columnas\n",
    "cols = df.columns.tolist()\n",
    "#Hacer que el Nombre esté al principio\n",
    "cols = cols[-1:] + cols[:-1]\n",
    "df = df[cols]"
   ]
  },
  {
   "cell_type": "code",
   "execution_count": 113,
   "metadata": {},
   "outputs": [
    {
     "data": {
      "text/html": [
       "<div>\n",
       "<style scoped>\n",
       "    .dataframe tbody tr th:only-of-type {\n",
       "        vertical-align: middle;\n",
       "    }\n",
       "\n",
       "    .dataframe tbody tr th {\n",
       "        vertical-align: top;\n",
       "    }\n",
       "\n",
       "    .dataframe thead th {\n",
       "        text-align: right;\n",
       "    }\n",
       "</style>\n",
       "<table border=\"1\" class=\"dataframe\">\n",
       "  <thead>\n",
       "    <tr style=\"text-align: right;\">\n",
       "      <th></th>\n",
       "      <th>Name</th>\n",
       "      <th>Above the Break 3</th>\n",
       "      <th>In The Paint (Non-RA)</th>\n",
       "      <th>Left Corner 3</th>\n",
       "      <th>Mid</th>\n",
       "      <th>Restricted Area</th>\n",
       "      <th>Right Corner 3</th>\n",
       "      <th>FGA</th>\n",
       "      <th>Above the Break 3 FGA</th>\n",
       "      <th>In The Paint (Non-RA) FGA</th>\n",
       "      <th>Left Corner 3 FGA</th>\n",
       "      <th>Mid FGA</th>\n",
       "      <th>Restricted Area FGA</th>\n",
       "      <th>Right Corner 3 FGA</th>\n",
       "      <th>Pts</th>\n",
       "    </tr>\n",
       "  </thead>\n",
       "  <tbody>\n",
       "    <tr>\n",
       "      <th>1713</th>\n",
       "      <td>Vince Carter</td>\n",
       "      <td>1.038186</td>\n",
       "      <td>0.906250</td>\n",
       "      <td>8.604651e-01</td>\n",
       "      <td>0.772727</td>\n",
       "      <td>1.106796</td>\n",
       "      <td>0.826923</td>\n",
       "      <td>755</td>\n",
       "      <td>88</td>\n",
       "      <td>103</td>\n",
       "      <td>419</td>\n",
       "      <td>52</td>\n",
       "      <td>64</td>\n",
       "      <td>43</td>\n",
       "      <td>769</td>\n",
       "    </tr>\n",
       "    <tr>\n",
       "      <th>1717</th>\n",
       "      <td>Dirk Nowitzki</td>\n",
       "      <td>0.934426</td>\n",
       "      <td>0.962963</td>\n",
       "      <td>4.000000e-01</td>\n",
       "      <td>0.791367</td>\n",
       "      <td>1.200000</td>\n",
       "      <td>0.750000</td>\n",
       "      <td>327</td>\n",
       "      <td>139</td>\n",
       "      <td>5</td>\n",
       "      <td>183</td>\n",
       "      <td>16</td>\n",
       "      <td>27</td>\n",
       "      <td>5</td>\n",
       "      <td>375</td>\n",
       "    </tr>\n",
       "    <tr>\n",
       "      <th>2037</th>\n",
       "      <td>Jamal Crawford</td>\n",
       "      <td>1.072727</td>\n",
       "      <td>0.957746</td>\n",
       "      <td>3.636364e-01</td>\n",
       "      <td>0.868966</td>\n",
       "      <td>1.000000</td>\n",
       "      <td>0.733333</td>\n",
       "      <td>412</td>\n",
       "      <td>145</td>\n",
       "      <td>22</td>\n",
       "      <td>165</td>\n",
       "      <td>15</td>\n",
       "      <td>71</td>\n",
       "      <td>22</td>\n",
       "      <td>440</td>\n",
       "    </tr>\n",
       "    <tr>\n",
       "      <th>2199</th>\n",
       "      <td>Tyson Chandler</td>\n",
       "      <td>0.000000</td>\n",
       "      <td>0.857143</td>\n",
       "      <td>0.000000e+00</td>\n",
       "      <td>0.000000</td>\n",
       "      <td>1.333333</td>\n",
       "      <td>0.000000</td>\n",
       "      <td>150</td>\n",
       "      <td>1</td>\n",
       "      <td>108</td>\n",
       "      <td>1</td>\n",
       "      <td>0</td>\n",
       "      <td>7</td>\n",
       "      <td>0</td>\n",
       "      <td>117</td>\n",
       "    </tr>\n",
       "    <tr>\n",
       "      <th>2200</th>\n",
       "      <td>Pau Gasol</td>\n",
       "      <td>1.800000</td>\n",
       "      <td>0.750000</td>\n",
       "      <td>8.593432e-16</td>\n",
       "      <td>0.761905</td>\n",
       "      <td>1.055556</td>\n",
       "      <td>0.000000</td>\n",
       "      <td>90</td>\n",
       "      <td>21</td>\n",
       "      <td>36</td>\n",
       "      <td>10</td>\n",
       "      <td>1</td>\n",
       "      <td>24</td>\n",
       "      <td>2</td>\n",
       "      <td>94</td>\n",
       "    </tr>\n",
       "  </tbody>\n",
       "</table>\n",
       "</div>"
      ],
      "text/plain": [
       "                Name  Above the Break 3  In The Paint (Non-RA)  Left Corner 3  \\\n",
       "1713    Vince Carter           1.038186               0.906250   8.604651e-01   \n",
       "1717   Dirk Nowitzki           0.934426               0.962963   4.000000e-01   \n",
       "2037  Jamal Crawford           1.072727               0.957746   3.636364e-01   \n",
       "2199  Tyson Chandler           0.000000               0.857143   0.000000e+00   \n",
       "2200       Pau Gasol           1.800000               0.750000   8.593432e-16   \n",
       "\n",
       "           Mid  Restricted Area  Right Corner 3  FGA  Above the Break 3 FGA  \\\n",
       "1713  0.772727         1.106796        0.826923  755                     88   \n",
       "1717  0.791367         1.200000        0.750000  327                    139   \n",
       "2037  0.868966         1.000000        0.733333  412                    145   \n",
       "2199  0.000000         1.333333        0.000000  150                      1   \n",
       "2200  0.761905         1.055556        0.000000   90                     21   \n",
       "\n",
       "      In The Paint (Non-RA) FGA  Left Corner 3 FGA  Mid FGA  \\\n",
       "1713                        103                419       52   \n",
       "1717                          5                183       16   \n",
       "2037                         22                165       15   \n",
       "2199                        108                  1        0   \n",
       "2200                         36                 10        1   \n",
       "\n",
       "      Restricted Area FGA  Right Corner 3 FGA  Pts  \n",
       "1713                   64                  43  769  \n",
       "1717                   27                   5  375  \n",
       "2037                   71                  22  440  \n",
       "2199                    7                   0  117  \n",
       "2200                   24                   2   94  "
      ]
     },
     "execution_count": 113,
     "metadata": {},
     "output_type": "execute_result"
    }
   ],
   "source": [
    "#Así queda la base\n",
    "df.head()"
   ]
  },
  {
   "cell_type": "code",
   "execution_count": null,
   "metadata": {},
   "outputs": [],
   "source": []
  }
 ],
 "metadata": {
  "kernelspec": {
   "display_name": "Python 3",
   "language": "python",
   "name": "python3"
  },
  "language_info": {
   "codemirror_mode": {
    "name": "ipython",
    "version": 3
   },
   "file_extension": ".py",
   "mimetype": "text/x-python",
   "name": "python",
   "nbconvert_exporter": "python",
   "pygments_lexer": "ipython3",
   "version": "3.8.5"
  }
 },
 "nbformat": 4,
 "nbformat_minor": 4
}
