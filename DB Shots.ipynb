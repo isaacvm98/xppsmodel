{
 "cells": [
  {
   "cell_type": "code",
   "execution_count": null,
   "metadata": {},
   "outputs": [],
   "source": [
    "import numpy as np\n",
    "import pandas as pd\n",
    "import matplotlib.pyplot as plt\n",
    "from matplotlib.patches import Arc\n",
    "import itertools\n",
    "import json\n",
    "from PIL import Image\n",
    "import time\n",
    "import winsound"
   ]
  },
  {
   "cell_type": "code",
   "execution_count": null,
   "metadata": {},
   "outputs": [],
   "source": [
    "#obtener datos de 20-21\n",
    "from nba_api.stats.endpoints import shotchartdetail\n",
    "\n",
    "response = shotchartdetail.ShotChartDetail(\n",
    "\tteam_id=0,\n",
    "\tplayer_id=0,\n",
    "\tseason_nullable='2020-21',\n",
    "\tseason_type_all_star='Regular Season',\n",
    "\tcontext_measure_simple='FGA'\n",
    ")\n",
    "\n",
    "content = json.loads(response.get_json())"
   ]
  },
  {
   "cell_type": "code",
   "execution_count": null,
   "metadata": {},
   "outputs": [],
   "source": [
    "#datos 19-20\n",
    "from nba_api.stats.endpoints import shotchartdetail\n",
    "\n",
    "response_19 = shotchartdetail.ShotChartDetail(\n",
    "\tteam_id=0,\n",
    "\tplayer_id=0,\n",
    "\tseason_nullable='2019-20',\n",
    "\tseason_type_all_star='Regular Season',\n",
    "\tcontext_measure_simple='FGA'\n",
    ")\n",
    "\n",
    "content_19 = json.loads(response_19.get_json())"
   ]
  },
  {
   "cell_type": "code",
   "execution_count": null,
   "metadata": {},
   "outputs": [],
   "source": [
    "#datos 18-19\n",
    "\n",
    "response_18 = shotchartdetail.ShotChartDetail(\n",
    "\tteam_id=0,\n",
    "\tplayer_id=0,\n",
    "\tseason_nullable='2018-19',\n",
    "\tseason_type_all_star='Regular Season',\n",
    "\tcontext_measure_simple='FGA'\n",
    ")\n",
    "\n",
    "content_18 = json.loads(response_18.get_json())"
   ]
  },
  {
   "cell_type": "code",
   "execution_count": null,
   "metadata": {},
   "outputs": [],
   "source": [
    "# transform contents into dataframe\n",
    "results = content['resultSets'][0]\n",
    "headers = results['headers']\n",
    "rows = results['rowSet']\n",
    "df_20 = pd.DataFrame(rows)\n",
    "df_20.columns = headers"
   ]
  },
  {
   "cell_type": "code",
   "execution_count": null,
   "metadata": {},
   "outputs": [],
   "source": [
    "# transform contents into dataframe\n",
    "results_19 = content_19['resultSets'][0]\n",
    "headers_19 = results_19['headers']\n",
    "rows_19 = results_19['rowSet']\n",
    "df_19 = pd.DataFrame(rows_19)\n",
    "df_19.columns = headers"
   ]
  },
  {
   "cell_type": "code",
   "execution_count": null,
   "metadata": {},
   "outputs": [],
   "source": [
    "# transform contents into dataframe\n",
    "results_18= content_18['resultSets'][0]\n",
    "headers_18 = results_18['headers']\n",
    "rows_18= results_18['rowSet']\n",
    "df_18 = pd.DataFrame(rows_18)\n",
    "df_18.columns = headers"
   ]
  },
  {
   "cell_type": "code",
   "execution_count": null,
   "metadata": {},
   "outputs": [],
   "source": [
    "df= pd.merge(df_20,df_19,how=\"outer\")\n",
    "df= pd.merge(df,df_18,how=\"outer\")\n",
    "#write to csv file\n",
    "df.to_csv(\"shots.csv\", index=False)"
   ]
  }
 ],
 "metadata": {
  "kernelspec": {
   "display_name": "Python 3",
   "language": "python",
   "name": "python3"
  },
  "language_info": {
   "codemirror_mode": {
    "name": "ipython",
    "version": 3
   },
   "file_extension": ".py",
   "mimetype": "text/x-python",
   "name": "python",
   "nbconvert_exporter": "python",
   "pygments_lexer": "ipython3",
   "version": "3.8.5"
  }
 },
 "nbformat": 4,
 "nbformat_minor": 4
}
